{
  "nbformat": 4,
  "nbformat_minor": 0,
  "metadata": {
    "colab": {
      "provenance": []
    },
    "kernelspec": {
      "name": "python3",
      "display_name": "Python 3"
    },
    "language_info": {
      "name": "python"
    }
  },
  "cells": [
    {
      "cell_type": "code",
      "execution_count": 1,
      "metadata": {
        "id": "86Lj4OJj6iyv"
      },
      "outputs": [],
      "source": [
        "import pandas as pd"
      ]
    },
    {
      "cell_type": "code",
      "source": [
        "titanic = pd.read_json(' https://github.com/YBIFoundation/Dataset/raw/main/Titanic.json')"
      ],
      "metadata": {
        "id": "ivHywI2G6nYv"
      },
      "execution_count": 2,
      "outputs": []
    },
    {
      "cell_type": "code",
      "source": [],
      "metadata": {
        "id": "HimoIKqF6_DZ"
      },
      "execution_count": null,
      "outputs": []
    }
  ]
}