{
  "nbformat": 4,
  "nbformat_minor": 0,
  "metadata": {
    "colab": {
      "provenance": []
    },
    "kernelspec": {
      "name": "python3",
      "display_name": "Python 3"
    },
    "language_info": {
      "name": "python"
    }
  },
  "cells": [
    {
      "cell_type": "code",
      "execution_count": 1,
      "metadata": {
        "id": "fg2nXK1G7hyM"
      },
      "outputs": [],
      "source": [
        "import pandas as pd"
      ]
    },
    {
      "cell_type": "code",
      "source": [
        "titanic = pd.read_excel(' https://github.com/YBIFoundation/Dataset/raw/main/Titanic.xlsx')"
      ],
      "metadata": {
        "id": "rscbze1c7vsC"
      },
      "execution_count": 2,
      "outputs": []
    }
  ]
}